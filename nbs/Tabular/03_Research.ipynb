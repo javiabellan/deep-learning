{
 "cells": [
  {
   "cell_type": "markdown",
   "metadata": {},
   "source": [
    "# 03 Doing Research\n",
    "\n",
    "This notebook is more of a blog-style where I'll be discussing what I found useful to know and understand about how research is different and ideas/concepts you should keep in mind:\n",
    "\n",
    "---\n",
    "\n",
    "# Understanding the Data\n",
    "\n",
    "* Understanding the ins and outs of the data plays a large role in being able to interpret behaviors about your model and its performance\n",
    "* Without this we're just throwing a model at data and while we could perform well, you'll be asked *why* and understanding **both** the *data* and the *technique* let's you do so\n",
    "\n",
    "# Understanding the Techniques\n",
    "\n",
    "* You'll be the expert in neural networks on the team (I've found), so you need to *make sure* what you're telling your team is accurate and reliable information\n",
    "* I found this a particular struggle\n",
    "* **Test Sets**\n",
    "* [How (and why) to create a good validation set](https://www.fast.ai/2017/11/13/validation-sets/)\n",
    "\n",
    "\n",
    "# Understanding how to *Interpret* the Techniques\n",
    "\n",
    "* This is especially hard with tabular, as many researchers still view neural networks as black boxes where we can never know what's going on\n",
    "* Understanding how to use the various tools to interpret models for your peers/partners in a way that they can understand is extremely valuable. While we may understand what [ClassConfusion](https://github.com/muellerzr/Practical-Deep-Learning-for-Coders-2.0/blob/master/Tabular%20Notebooks/03_ClassConfusion.ipynb), [SHAP](https://github.com/muellerzr/Practical-Deep-Learning-for-Coders-2.0/blob/master/Tabular%20Notebooks/03_SHAP.ipynb), etc is doing in the background, it's another set of skills entirely to *communicate* this effectively\n",
    "\n",
    "# You are keeping yourself accountable\n",
    "\n",
    "* If you're ever iffy about anything, *automatically* assume you need to read a bit more into how to make something work\n",
    "\n",
    "* I had this issue with my research project\n",
    "* Probably the hardest thing to do is admit when you are wrong, but it's *especially* important to do so before it's too late"
   ]
  }
 ],
 "metadata": {
  "kernelspec": {
   "display_name": "Python 3",
   "language": "python",
   "name": "python3"
  }
 },
 "nbformat": 4,
 "nbformat_minor": 1
}
