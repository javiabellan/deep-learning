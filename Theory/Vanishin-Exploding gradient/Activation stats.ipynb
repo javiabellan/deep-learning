{
 "cells": [
  {
   "cell_type": "code",
   "execution_count": 1,
   "metadata": {},
   "outputs": [],
   "source": [
    "import torch\n",
    "import torch.nn as nn\n",
    "import torch.nn.functional as F\n",
    "\n",
    "from functools import partial\n",
    "import matplotlib.pyplot as plt"
   ]
  },
  {
   "cell_type": "markdown",
   "metadata": {},
   "source": [
    "# Inpupt"
   ]
  },
  {
   "cell_type": "code",
   "execution_count": 2,
   "metadata": {},
   "outputs": [
    {
     "name": "stdout",
     "output_type": "stream",
     "text": [
      "Mean: tensor(0.0175)\n",
      "Desv: tensor(0.9691)\n",
      "Hist: tensor([64., 53., 52., 29., 27., 17., 13., 10.,  6.,  4.,  0.,  1.,  0.,  0.,\n",
      "         0.,  0.,  0.,  0.,  0.,  0.,  0.,  0.,  0.,  0.,  0.,  0.,  0.,  0.,\n",
      "         0.,  0.,  0.,  0.,  0.,  0.,  0.,  0.,  0.,  0.,  0.,  0.])\n"
     ]
    }
   ],
   "source": [
    "# x is an input vector (random with mean of 0 and standard deviation of 1)\n",
    "inp = torch.randn(512)\n",
    "print(\"Mean:\", inp.mean())\n",
    "print(\"Desv:\", inp.std())\n",
    "print(\"Hist:\", inp.histc(40,0,10))"
   ]
  },
  {
   "cell_type": "markdown",
   "metadata": {},
   "source": [
    "# Networks blocks"
   ]
  },
  {
   "cell_type": "code",
   "execution_count": 3,
   "metadata": {},
   "outputs": [],
   "source": [
    "def lin_block(feats):\n",
    "    return nn.Sequential(\n",
    "        nn.Linear(feats, feats),\n",
    "        nn.ReLU()\n",
    "    )\n",
    "\n",
    "def lin_bn_block(feats):\n",
    "    return nn.Sequential(\n",
    "        nn.Linear(feats, feats),\n",
    "        nn.BatchNorm2d(feats),\n",
    "        nn.ReLU()\n",
    "    )\n",
    "\n",
    "def cnn_block(feats):\n",
    "    return nn.Sequential(\n",
    "        nn.Conv2d(feats, feats, kernel_size=3, padding=1),\n",
    "        nn.ReLU()\n",
    "    )\n",
    "\n",
    "def cnn_bn_block(feats):\n",
    "    return nn.Sequential(\n",
    "        nn.Conv2d(feats, feats, kernel_size=3, padding=1),\n",
    "        nn.BatchNorm2d(feats),\n",
    "        nn.ReLU()\n",
    "    )"
   ]
  },
  {
   "cell_type": "code",
   "execution_count": 4,
   "metadata": {},
   "outputs": [],
   "source": [
    "class ResBlock(nn.Module):\n",
    "\n",
    "    def __init__(self, i, o):\n",
    "        super(ResBlock, self).__init__()\n",
    "        self.conv1 = nn.Conv2d(i, o, 3)\n",
    "        self.bn1   = nn.BatchNorm2d(o)\n",
    "        self.relu  = nn.ReLU(inplace=True)\n",
    "        self.conv2 = nn.Conv2d(i, o, 3)\n",
    "        self.bn2   = nn.BatchNorm2d(o)\n",
    "\n",
    "    def forward(self, x):\n",
    "        out = self.conv1(x)\n",
    "        out = self.bn1(out)\n",
    "        out = self.relu(out)\n",
    "        out = self.conv2(out)\n",
    "        out = self.bn2(out)\n",
    "        out += x\n",
    "        out = self.relu(out)\n",
    "\n",
    "        return out"
   ]
  },
  {
   "cell_type": "markdown",
   "metadata": {},
   "source": [
    "# Networks"
   ]
  },
  {
   "cell_type": "code",
   "execution_count": 5,
   "metadata": {},
   "outputs": [],
   "source": [
    "feats  = 512\n",
    "layers = 10\n",
    "\n",
    "lin    = nn.Sequential(*[lin_block(feats)    for _ in range(layers)])\n",
    "cnn    = nn.Sequential(*[cnn_block(feats)    for _ in range(layers)])\n",
    "lin_bn = nn.Sequential(*[lin_bn_block(feats) for _ in range(layers)])\n",
    "cnn_bn = nn.Sequential(*[cnn_bn_block(feats) for _ in range(layers)])"
   ]
  },
  {
   "cell_type": "code",
   "execution_count": 6,
   "metadata": {},
   "outputs": [
    {
     "name": "stdout",
     "output_type": "stream",
     "text": [
      "0\n",
      "1\n",
      "2\n",
      "3\n",
      "4\n",
      "5\n",
      "6\n",
      "7\n",
      "8\n",
      "9\n"
     ]
    }
   ],
   "source": [
    "model = lin\n",
    "\n",
    "for name, l in model.named_children(): # named_modules\n",
    "    print(name)"
   ]
  },
  {
   "cell_type": "code",
   "execution_count": 7,
   "metadata": {},
   "outputs": [
    {
     "data": {
      "text/plain": [
       "([[], [], [], [], [], [], [], [], [], []],\n",
       " [[], [], [], [], [], [], [], [], [], []],\n",
       " [[], [], [], [], [], [], [], [], [], []])"
      ]
     },
     "execution_count": 7,
     "metadata": {},
     "output_type": "execute_result"
    }
   ],
   "source": [
    "class ActivationStats():\n",
    "    \n",
    "    def __init__(self, model):\n",
    "        self.n_layers = len(model)\n",
    "        self.means = [[] for _ in model]\n",
    "        self.stds  = [[] for _ in model]\n",
    "        self.hists = [[] for _ in model]\n",
    "        \n",
    "        for i, l in enumerate(model.children()):\n",
    "            l.register_forward_hook(partial(self.append_stats, i))\n",
    "            \n",
    "    def append_stats(self, i, layer, inp, out):\n",
    "        self.means[i].append(out.data.mean())\n",
    "        self.stds[i].append(out.data.std())\n",
    "        self.hists[i].append(out.data.histc(40,0,10))\n",
    "        \n",
    "    def plot_means(self):\n",
    "        for l in stats.means:\n",
    "            plt.plot(l)\n",
    "        plt.title('Means',fontsize=14)\n",
    "        plt.legend([\"layer \"+str(i) for i in range(1, self.n_layers+1)], loc='upper right');\n",
    "    def plot_stds(self):\n",
    "        for l in stats.stds:\n",
    "            plt.plot(l)\n",
    "        plt.title('Stds',fontsize=14)\n",
    "        plt.legend([\"layer \"+str(i) for i in range(1, self.n_layers+1)], loc='upper right');\n",
    "        \n",
    "    def plot_hist(self, layer_i=1): # 1,2,3,4\n",
    "        hist_tensor = torch.stack(stats.hists[layer_i-1]).t().float().log1p()\n",
    "        plt.imshow(hist_tensor, origin='lower')\n",
    "        plt.title('Histogram of layer '+str(layer_i), fontsize=14)\n",
    "        plt.xlabel('Iterations')\n",
    "        plt.ylabel('Activation values')\n",
    "        \n",
    "stats = ActivationStats(model)\n",
    "stats.means, stats.stds, stats.hists"
   ]
  },
  {
   "cell_type": "code",
   "execution_count": 8,
   "metadata": {},
   "outputs": [],
   "source": [
    "model(inp);model(inp);model(inp);model(inp);model(inp);model(inp);model(inp);model(inp);model(inp);model(inp);\n",
    "model(inp);model(inp);model(inp);model(inp);model(inp);model(inp);model(inp);model(inp);model(inp);model(inp);\n",
    "model(inp);model(inp);model(inp);model(inp);model(inp);model(inp);model(inp);model(inp);model(inp);model(inp);\n",
    "model(inp);model(inp);model(inp);model(inp);model(inp);model(inp);model(inp);model(inp);model(inp);model(inp);"
   ]
  },
  {
   "cell_type": "code",
   "execution_count": 9,
   "metadata": {},
   "outputs": [
    {
     "data": {
      "image/png": "[encoded data removed]",
      "text/plain": [
       "<Figure size 432x288 with 1 Axes>"
      ]
     },
     "metadata": {
      "needs_background": "light"
     },
     "output_type": "display_data"
    }
   ],
   "source": [
    "stats.plot_means()"
   ]
  },
  {
   "cell_type": "code",
   "execution_count": 10,
   "metadata": {},
   "outputs": [
    {
     "data": {
      "image/png": "[encoded data removed]",
      "text/plain": [
       "<Figure size 432x288 with 1 Axes>"
      ]
     },
     "metadata": {
      "needs_background": "light"
     },
     "output_type": "display_data"
    }
   ],
   "source": [
    "stats.plot_stds()"
   ]
  },
  {
   "cell_type": "code",
   "execution_count": 11,
   "metadata": {},
   "outputs": [
    {
     "data": {
      "image/png": "[encoded data removed]",
      "text/plain": [
       "<Figure size 432x288 with 1 Axes>"
      ]
     },
     "metadata": {
      "needs_background": "light"
     },
     "output_type": "display_data"
    }
   ],
   "source": [
    "stats.plot_hist(1)"
   ]
  },
  {
   "cell_type": "markdown",
   "metadata": {},
   "source": [
    "# FIN"
   ]
  },
  {
   "cell_type": "code",
   "execution_count": 12,
   "metadata": {},
   "outputs": [
    {
     "ename": "NameError",
     "evalue": "name 'rand_net' is not defined",
     "output_type": "error",
     "traceback": [
      "\u001b[0;31m---------------------------------------------------------------------------\u001b[0m",
      "\u001b[0;31mNameError\u001b[0m                                 Traceback (most recent call last)",
      "\u001b[0;32m<ipython-input-12-8d3047dd1944>\u001b[0m in \u001b[0;36m<module>\u001b[0;34m\u001b[0m\n\u001b[1;32m      6\u001b[0m \u001b[0;34m\u001b[0m\u001b[0m\n\u001b[1;32m      7\u001b[0m \u001b[0;31m# use the modules apply function to recursively apply the initialization\u001b[0m\u001b[0;34m\u001b[0m\u001b[0;34m\u001b[0m\u001b[0;34m\u001b[0m\u001b[0m\n\u001b[0;32m----> 8\u001b[0;31m \u001b[0mrand_net\u001b[0m\u001b[0;34m.\u001b[0m\u001b[0mapply\u001b[0m\u001b[0;34m(\u001b[0m\u001b[0minit_normal\u001b[0m\u001b[0;34m)\u001b[0m\u001b[0;34m\u001b[0m\u001b[0;34m\u001b[0m\u001b[0m\n\u001b[0m",
      "\u001b[0;31mNameError\u001b[0m: name 'rand_net' is not defined"
     ]
    }
   ],
   "source": [
    "    # initialization function, first checks the module type,\n",
    "    # then applies the desired changes to the weights\n",
    "    def init_normal(m):\n",
    "        if type(m) == nn.Linear:\n",
    "            nn.init.uniform_(m.weight)\n",
    "\n",
    "    # use the modules apply function to recursively apply the initialization\n",
    "    rand_net.apply(init_normal)"
   ]
  },
  {
   "cell_type": "code",
   "execution_count": 10,
   "metadata": {},
   "outputs": [
    {
     "name": "stdout",
     "output_type": "stream",
     "text": [
      "Layer 0: 8.439531326293945,12.308940887451172 \n",
      "Layer 10: 11093494726656.0,15686622511104.0 \n",
      "Layer 20: 1.477169494438928e+25,2.1607411509141955e+25 \n",
      "Layer 30: inf,3.032787889684707e+37 \n",
      "Layer 40: nan,nan \n"
     ]
    },
    {
     "data": {
      "text/plain": [
       "(tensor(nan, grad_fn=<MeanBackward0>), tensor(nan, grad_fn=<StdBackward0>))"
      ]
     },
     "execution_count": 10,
     "metadata": {},
     "output_type": "execute_result"
    }
   ],
   "source": [
    "# linear is a linear layer with output of size 512 (matrix 512x512)\n",
    "linear = torch.nn.Linear(512, 512)\n",
    "\n",
    "# we initialize the weight of the linear layer with random number (mean of 0 and standard deviation of 1)\n",
    "torch.nn.init.normal_(linear.weight, mean=0, std=1)\n",
    "\n",
    "# We simulate the foward pass of a neural net with 50 layers\n",
    "for i in range(50): \n",
    "    x = F.relu(linear(x))\n",
    "    \n",
    "    #We check the stats at some layers\n",
    "    if i % 10 == 0:\n",
    "        print(f'Layer {i}: {x.mean()},{x.std()} ')\n",
    "    \n",
    "# We get exploding gradient (not a number results)\n",
    "x.mean(),x.std()"
   ]
  },
  {
   "cell_type": "code",
   "execution_count": null,
   "metadata": {},
   "outputs": [],
   "source": []
  }
 ],
 "metadata": {
  "kernelspec": {
   "display_name": "Python 3",
   "language": "python",
   "name": "python3"
  },
  "language_info": {
   "codemirror_mode": {
    "name": "ipython",
    "version": 3
   },
   "file_extension": ".py",
   "mimetype": "text/x-python",
   "name": "python",
   "nbconvert_exporter": "python",
   "pygments_lexer": "ipython3",
   "version": "3.8.2"
  }
 },
 "nbformat": 4,
 "nbformat_minor": 2
}
