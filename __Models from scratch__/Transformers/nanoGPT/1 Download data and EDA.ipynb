{
 "cells": [
  {
   "cell_type": "markdown",
   "id": "6764a44d",
   "metadata": {},
   "source": [
    "## Code based on [Andrews Karpathy nanoGPT video](https://www.youtube.com/watch?v=kCc8FmEb1nY)"
   ]
  },
  {
   "cell_type": "code",
   "execution_count": 16,
   "id": "4d0a4dcb",
   "metadata": {},
   "outputs": [],
   "source": [
    "import torch\n",
    "import torch.nn.functional as F"
   ]
  },
  {
   "cell_type": "markdown",
   "id": "71ca945d",
   "metadata": {},
   "source": [
    "## Read data"
   ]
  },
  {
   "cell_type": "code",
   "execution_count": 2,
   "id": "8917e0f2",
   "metadata": {},
   "outputs": [],
   "source": [
    "data_file = open(\"data/tinyshakespeare.txt\", \"r\", encoding=\"utf-8\")\n",
    "data_str = data_file.read()"
   ]
  },
  {
   "cell_type": "code",
   "execution_count": 3,
   "id": "2fd450fd",
   "metadata": {},
   "outputs": [
    {
     "name": "stdout",
     "output_type": "stream",
     "text": [
      "First Citizen:\n",
      "Before we proceed any further, hear me speak.\n",
      "\n",
      "All:\n",
      "Speak, speak.\n",
      "\n",
      "First Citizen:\n",
      "You\n"
     ]
    }
   ],
   "source": [
    "print(data_str[:100])"
   ]
  },
  {
   "cell_type": "code",
   "execution_count": 4,
   "id": "b4eb1305",
   "metadata": {},
   "outputs": [
    {
     "name": "stdout",
     "output_type": "stream",
     "text": [
      "1115394\n"
     ]
    }
   ],
   "source": [
    "print(len(data_str))"
   ]
  },
  {
   "cell_type": "code",
   "execution_count": 14,
   "id": "05c4daf5",
   "metadata": {},
   "outputs": [
    {
     "name": "stdout",
     "output_type": "stream",
     "text": [
      "65 ['\\n', ' ', '!', '$', '&', \"'\", ',', '-', '.', '3', ':', ';', '?', 'A', 'B', 'C', 'D', 'E', 'F', 'G', 'H', 'I', 'J', 'K', 'L', 'M', 'N', 'O', 'P', 'Q', 'R', 'S', 'T', 'U', 'V', 'W', 'X', 'Y', 'Z', 'a', 'b', 'c', 'd', 'e', 'f', 'g', 'h', 'i', 'j', 'k', 'l', 'm', 'n', 'o', 'p', 'q', 'r', 's', 't', 'u', 'v', 'w', 'x', 'y', 'z']\n"
     ]
    }
   ],
   "source": [
    "vocab = sorted(list(set(data_str)))\n",
    "vocab_len = len(vocab)\n",
    "print(vocab_len, vocab)"
   ]
  },
  {
   "cell_type": "code",
   "execution_count": 6,
   "id": "817d1054",
   "metadata": {},
   "outputs": [],
   "source": [
    "c2i = {c:i for i,c in enumerate(vocab)}\n",
    "i2c = {i:c for i,c in enumerate(vocab)}\n",
    "\n",
    "encode = lambda text: [c2i[c] for c in text]\n",
    "decode = lambda ints: \"\".join([i2c[i] for i in ints])"
   ]
  },
  {
   "cell_type": "code",
   "execution_count": 7,
   "id": "8c164b98",
   "metadata": {},
   "outputs": [
    {
     "data": {
      "text/plain": [
       "[46, 43, 50, 50, 53]"
      ]
     },
     "execution_count": 7,
     "metadata": {},
     "output_type": "execute_result"
    }
   ],
   "source": [
    "encode(\"hello\")"
   ]
  },
  {
   "cell_type": "code",
   "execution_count": 8,
   "id": "52c56755",
   "metadata": {},
   "outputs": [
    {
     "data": {
      "text/plain": [
       "'hello'"
      ]
     },
     "execution_count": 8,
     "metadata": {},
     "output_type": "execute_result"
    }
   ],
   "source": [
    "decode(encode(\"hello\"))"
   ]
  },
  {
   "cell_type": "markdown",
   "id": "c9313cf2",
   "metadata": {},
   "source": [
    "# Pytorch tran-val tensor data"
   ]
  },
  {
   "cell_type": "code",
   "execution_count": 9,
   "id": "96ae0aca",
   "metadata": {},
   "outputs": [],
   "source": [
    "data = torch.tensor(encode(data_str), dtype=torch.uint8)"
   ]
  },
  {
   "cell_type": "code",
   "execution_count": 12,
   "id": "cf966379",
   "metadata": {},
   "outputs": [
    {
     "name": "stdout",
     "output_type": "stream",
     "text": [
      "1003854 111540\n"
     ]
    }
   ],
   "source": [
    "n = int(len(data)*0.9)\n",
    "train_data = data[:n]\n",
    "valid_data = data[n:]\n",
    "\n",
    "print(len(train_data), len(valid_data))"
   ]
  },
  {
   "cell_type": "code",
   "execution_count": null,
   "id": "9efd9235",
   "metadata": {},
   "outputs": [],
   "source": [
    "CONTEXT_LEN = 9"
   ]
  },
  {
   "cell_type": "markdown",
   "id": "f6c549d2",
   "metadata": {},
   "source": [
    "# Model 1: Baseline 1: Only look at current character\n",
    "We use Embedding(vocab_len, vocab_len) like **looking the row char probabilites for each char**"
   ]
  },
  {
   "cell_type": "code",
   "execution_count": 18,
   "id": "ce338c2a",
   "metadata": {},
   "outputs": [],
   "source": [
    "class Baseline(torch.nn.Module):\n",
    "    def __init__(self):\n",
    "        super().__init__()\n",
    "        self.table = torch.nn.Embedding(vocab_len, vocab_len)\n",
    "        \n",
    "    def forward(self, in_idxs, target_idxs=None):\n",
    "        # in_idxs & target_idxs are both [BS, SEQ_LEN] \n",
    "            \n",
    "        # Forward\n",
    "        out_probs = self.table(in_idxs) # out_probs (aka logits) is [BS, SEQ_LEN, VOC_LEN] \n",
    "        \n",
    "        # Compute loss based on expected idxs?\n",
    "        if target_idxs is None:\n",
    "            return out_probs\n",
    "        else:\n",
    "            # Rechape (needed for Pytorch crosssEntr)\n",
    "            BS,SEQ_LEN,VOC_LEN = out_probs.shape\n",
    "            out_probs   = out_probs.view(BS*SEQ_LEN, VOC_LEN)\n",
    "            target_idxs = target_idxs.view(BS*SEQ_LEN)\n",
    "\n",
    "            # Loss (crosssEntr)\n",
    "            ce_loss = F.cross_entropy(out_probs, target_idxs)\n",
    "\n",
    "            return out_probs, ce_loss\n",
    "        \n",
    "m = Baseline()"
   ]
  },
  {
   "cell_type": "code",
   "execution_count": 19,
   "id": "6cb5e7a8",
   "metadata": {},
   "outputs": [],
   "source": [
    "optimizer = torch.optim.AdamW(m.parameters(), lr=1e-3)"
   ]
  },
  {
   "cell_type": "markdown",
   "id": "fae35d20",
   "metadata": {},
   "source": [
    "# Model 2: Baseline 2: Mean of embeddings of current + past characters\n"
   ]
  },
  {
   "cell_type": "markdown",
   "id": "bef13401",
   "metadata": {},
   "source": [
    "# Model 3: Transformer\n"
   ]
  },
  {
   "cell_type": "code",
   "execution_count": null,
   "id": "8e412843",
   "metadata": {},
   "outputs": [],
   "source": []
  }
 ],
 "metadata": {
  "kernelspec": {
   "display_name": "Python 3 (ipykernel)",
   "language": "python",
   "name": "python3"
  },
  "language_info": {
   "codemirror_mode": {
    "name": "ipython",
    "version": 3
   },
   "file_extension": ".py",
   "mimetype": "text/x-python",
   "name": "python",
   "nbconvert_exporter": "python",
   "pygments_lexer": "ipython3",
   "version": "3.10.10"
  }
 },
 "nbformat": 4,
 "nbformat_minor": 5
}
